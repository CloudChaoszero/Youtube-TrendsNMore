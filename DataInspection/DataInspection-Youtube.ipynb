{
 "cells": [
  {
   "cell_type": "markdown",
   "metadata": {},
   "source": [
    "# Youtube Data Exploration & Cleaning"
   ]
  },
  {
   "cell_type": "markdown",
   "metadata": {},
   "source": [
    "![\"Bronze Button\"](https://pbs.twimg.com/media/C1WZpigXUAQMQLj.jpg)"
   ]
  },
  {
   "cell_type": "markdown",
   "metadata": {},
   "source": [
    "## 1.0 Imports\n",
    "\n",
    "We locally import the Youtube datasets using Pandas. Thereafter, we utilize Pprint at some point to easily visualize and identify ouput.\n",
    "\n",
    "The regions of the Youtube video information are the following:\n",
    "\n",
    "1. Canada\n",
    "\n",
    "2. United States of America\n",
    "\n",
    "3. Great Britain\n",
    "\n",
    "4. France\n",
    "\n",
    "5. Germany"
   ]
  },
  {
   "cell_type": "code",
   "execution_count": 1,
   "metadata": {
    "collapsed": true
   },
   "outputs": [],
   "source": [
    "import sys\n",
    "sys.path.insert(0, \"../Resources/Modules\")"
   ]
  },
  {
   "cell_type": "code",
   "execution_count": 2,
   "metadata": {},
   "outputs": [],
   "source": [
    "#Minimum requirements for cleaning\n",
    "\n",
    "import pandas as pd\n",
    "import pprint\n",
    "import string\n",
    "import matplotlib.pyplot as plt\n",
    "from datetime import datetime as dt\n",
    "\n",
    "\n",
    "import visual_descriptiveStats as viz_personal"
   ]
  },
  {
   "cell_type": "code",
   "execution_count": 3,
   "metadata": {
    "collapsed": true
   },
   "outputs": [],
   "source": [
    "#Import Canadian, American, British, French, and Germany Youtube video data, respectively\n",
    "\n",
    "caVideo_df = pd.read_csv(\"../Data/CAvideos.csv\")\n",
    "usaVideo_df = pd.read_csv(\"../Data/USvideos.csv\")\n",
    "gbVideo_df = pd.read_csv(\"../Data/GBvideos.csv\")\n",
    "frVideo_df = pd.read_csv(\"../Data/FRvideos.csv\")\n",
    "deVideo_df = pd.read_csv(\"../Data/DEvideos.csv\")\n"
   ]
  },
  {
   "cell_type": "markdown",
   "metadata": {},
   "source": [
    "## 2.0 Inspection\n",
    "\n",
    "We first evaluate the type of features we have for our datasets. Moreover, we identify a few characteristics of the information!\n",
    "\n",
    "### 2.1 What features we have available, type of info we have"
   ]
  },
  {
   "cell_type": "code",
   "execution_count": 4,
   "metadata": {},
   "outputs": [
    {
     "data": {
      "text/plain": [
       "Index(['video_id', 'trending_date', 'title', 'channel_title', 'category_id',\n",
       "       'publish_time', 'tags', 'views', 'likes', 'dislikes', 'comment_count',\n",
       "       'thumbnail_link', 'comments_disabled', 'ratings_disabled',\n",
       "       'video_error_or_removed', 'description'],\n",
       "      dtype='object')"
      ]
     },
     "execution_count": 4,
     "metadata": {},
     "output_type": "execute_result"
    }
   ],
   "source": [
    "frVideo_df.columns"
   ]
  },
  {
   "cell_type": "markdown",
   "metadata": {},
   "source": [
    "### 2.2 Total Count of Rows and Features"
   ]
  },
  {
   "cell_type": "code",
   "execution_count": 5,
   "metadata": {},
   "outputs": [
    {
     "name": "stdout",
     "output_type": "stream",
     "text": [
      "Total of rows and features for Canada:,  (10592, 16)\n",
      "Total of rows and features for USA:,  (10600, 16)\n",
      "Total of rows and features for Great Britain:,  (10593, 16)\n",
      "Total of rows and features for France:,  (10594, 16)\n",
      "Total of rows and features for Germany:,  (10597, 16)\n"
     ]
    }
   ],
   "source": [
    "#Rows x Columns\n",
    "print(\"Total of rows and features for Canada:, \",caVideo_df.shape)\n",
    "print(\"Total of rows and features for USA:, \",usaVideo_df.shape)\n",
    "print(\"Total of rows and features for Great Britain:, \",gbVideo_df.shape)\n",
    "print(\"Total of rows and features for France:, \",frVideo_df.shape)\n",
    "print(\"Total of rows and features for Germany:, \",deVideo_df.shape)"
   ]
  },
  {
   "cell_type": "markdown",
   "metadata": {},
   "source": [
    "We observe discrepancies between the amount of rows for each dataframe. Since these datasets are much alike from each other, we would like to concatenate the information into one dataset, with their Country of origin being another feature, for future analysis.\n",
    "\n",
    "The filesize should be an estimated total of the sum of all dataset's rows. This total would be $\\sum{ 10592 + 10600 + 10593 + 10594 + 10597 = 52976}$ rows.\n",
    "\n",
    "The processing speed to evaluate this information will be slower. However, it is not significant to affect the computational computing for our computers.... \n",
    "\n",
    "_Hint:_ Dropping Features\n",
    "\n",
    "### 2.3 Descriptive Statistics and Thoughts"
   ]
  },
  {
   "cell_type": "markdown",
   "metadata": {},
   "source": [
    "#### 2.3.1 Visualizing Mean and Median for Quantitative Datatypes\n",
    "\n",
    "From the dataframe_stats function we have created, particularly for this analysis, we get the following:"
   ]
  },
  {
   "cell_type": "markdown",
   "metadata": {},
   "source": [
    "##### 2.3.1.1 Youtube Views"
   ]
  },
  {
   "cell_type": "code",
   "execution_count": 6,
   "metadata": {},
   "outputs": [
    {
     "data": {
      "image/png": "[encoded data removed]",
      "text/plain": [
       "<matplotlib.figure.Figure at 0x163949e4198>"
      ]
     },
     "metadata": {},
     "output_type": "display_data"
    },
    {
     "data": {
      "image/png": "[encoded data removed]",
      "text/plain": [
       "<matplotlib.figure.Figure at 0x16393bf9978>"
      ]
     },
     "metadata": {},
     "output_type": "display_data"
    }
   ],
   "source": [
    "#The columns, datatypes, data, and countries we want for visualizing our datasets\n",
    "cols = [\"views\",\"likes\",\"dislikes\",\"comment_count\"]\n",
    "dtypes = \"int64\"\n",
    "country = [\"CA\", \"USA\", \"GB\", \"FR\",\"DE\"]\n",
    "all_data = [caVideo_df, usaVideo_df, gbVideo_df, frVideo_df, deVideo_df]\n",
    "\n",
    "viz_personal.dataframe_stats(desired_feature=\"views\", statistics = [\"mean\",\"std\"],countries = country, dtype =dtypes,datasetList = all_data)\n"
   ]
  },
  {
   "cell_type": "markdown",
   "metadata": {},
   "source": [
    "##### 2.3.1.2 Dislikes"
   ]
  },
  {
   "cell_type": "code",
   "execution_count": 7,
   "metadata": {},
   "outputs": [
    {
     "data": {
      "image/png": "[encoded data removed]",
      "text/plain": [
       "<matplotlib.figure.Figure at 0x16393c95c18>"
      ]
     },
     "metadata": {},
     "output_type": "display_data"
    },
    {
     "data": {
      "image/png": "[encoded data removed]",
      "text/plain": [
       "<matplotlib.figure.Figure at 0x16393c45588>"
      ]
     },
     "metadata": {},
     "output_type": "display_data"
    }
   ],
   "source": [
    "viz_personal.dataframe_stats(desired_feature=\"dislikes\", statistics = [\"mean\",\"std\"],countries = country, dtype =dtypes,datasetList = all_data)\n"
   ]
  },
  {
   "cell_type": "markdown",
   "metadata": {},
   "source": [
    "##### 2.3.1.3 Comment Count"
   ]
  },
  {
   "cell_type": "code",
   "execution_count": 8,
   "metadata": {},
   "outputs": [
    {
     "data": {
      "image/png": "[encoded data removed]",
      "text/plain": [
       "<matplotlib.figure.Figure at 0x16393de9c88>"
      ]
     },
     "metadata": {},
     "output_type": "display_data"
    },
    {
     "data": {
      "image/png": "[encoded data removed]",
      "text/plain": [
       "<matplotlib.figure.Figure at 0x16393e6ef28>"
      ]
     },
     "metadata": {},
     "output_type": "display_data"
    }
   ],
   "source": [
    "viz_personal.dataframe_stats(desired_feature=\"comment_count\", statistics = [\"mean\",\"std\"],countries = country, dtype =dtypes,datasetList = all_data)\n"
   ]
  },
  {
   "cell_type": "markdown",
   "metadata": {},
   "source": [
    "From our observations, we observe that both the mean and standard deviation of Great Britain (GB) are larger than that of any other country. \n",
    "\n",
    "If we look into some of the videos in our upcoming analysis, separate document, we could identify why this situation occurs.\n",
    "\n",
    "Even if the total data sizes for each dataset are relatively the same, GB had had more Dislikes, Comments, Likes, and other cases. \n",
    "\n",
    "Does this mean that:\n",
    "\n",
    "1. GB has more created content?\n",
    "\n",
    "2. Youtubers watch more GB content?\n",
    "\n",
    "3. GB has more viral content?\n",
    "\n",
    "We'll see... later"
   ]
  },
  {
   "cell_type": "markdown",
   "metadata": {},
   "source": [
    "#### 2.3.2 Datatypes\n",
    "\n",
    "Because every dataset is derived from the same source, we can print out the datatypes for every dataset from one of them. I.e. We print out the datatypes for one dataset, instead of for all.\n",
    "\n",
    "The following are the datatypes for every dataset.\n",
    "\n",
    "(Note: If you would like validate any discrepancies, you can uncomment the comment section)"
   ]
  },
  {
   "cell_type": "code",
   "execution_count": 9,
   "metadata": {},
   "outputs": [
    {
     "name": "stdout",
     "output_type": "stream",
     "text": [
      "Data Types of and features for all datasets:\n",
      "\n",
      "   video_id                  object\n",
      "trending_date             object\n",
      "title                     object\n",
      "channel_title             object\n",
      "category_id                int64\n",
      "publish_time              object\n",
      "tags                      object\n",
      "views                      int64\n",
      "likes                      int64\n",
      "dislikes                   int64\n",
      "comment_count              int64\n",
      "thumbnail_link            object\n",
      "comments_disabled           bool\n",
      "ratings_disabled            bool\n",
      "video_error_or_removed      bool\n",
      "description               object\n",
      "dtype: object\n"
     ]
    }
   ],
   "source": [
    "print(\"Data Types of and features for all datasets:\\n\\n  \",caVideo_df.dtypes)\n",
    "\n",
    "\n",
    "\n",
    "#Addresses the Note, from the above comment section\n",
    "#--------------------------------------------------------\n",
    "#print(\"Data Types of and features for Canada:\\n\\n  \",caVideo_df.dtypes)\n",
    "#print(\"Descriptive Statistics of rows and features for USA:\\n\\n  \",usaVideo_df.dtypes)\n",
    "#print(\"Descriptive Statistics of rows and features for Great Britain:\\n\\n \",gbVideo_df.dtypes)\n",
    "#print(\"Descriptive Statistics of rows and features for France:\\n\\n  \",frVideo_df.dtypes)\n",
    "#print(\"Descriptive Statistics of rows and features for Germany:\\n\\n  \",deVideo_df.dtypes)"
   ]
  },
  {
   "cell_type": "markdown",
   "metadata": {},
   "source": [
    "In this portion, we notice that we have a couple of unneccasary pieces of information to analyze this data. \n",
    "\n",
    "Moreover, can we identify any trivial cases of information that may be affected from:\n",
    "\n",
    "1. Poor Derivation\n",
    "\n",
    "2. Extraction\n",
    "\n",
    "3. Other Potential Modification? \n",
    "\n",
    "We find out in the following **Cleaning** portion section. "
   ]
  },
  {
   "cell_type": "markdown",
   "metadata": {},
   "source": [
    "## 3.0 Cleaning"
   ]
  },
  {
   "cell_type": "markdown",
   "metadata": {},
   "source": [
    "### 3.1 Formatting Trend Date Feature\n",
    "\n",
    "Firstly, we format the \"trending_date\" feature from having dots as its delimiters, to \"slash\" delimiters. \n",
    "\n",
    "For example, 1.1.17 will now be 1/1/17."
   ]
  },
  {
   "cell_type": "code",
   "execution_count": 10,
   "metadata": {
    "collapsed": true
   },
   "outputs": [],
   "source": [
    "for dataset in all_data:\n",
    "    for a in range(0,len(caVideo_df[\"trending_date\"])):\n",
    "        if(\".\" in str(dataset.iloc[a][\"trending_date\"])):\n",
    "            x = str(dataset.iloc[a][\"trending_date\"]).split(\".\")\n",
    "            dataset.at[a,\"trending_date\"] = x[2]+\"/\"+ x[1]+ \"/20\"+x[0]\n",
    "        else:\n",
    "            continue"
   ]
  },
  {
   "cell_type": "markdown",
   "metadata": {},
   "source": [
    "### 3.2 Identifying Null Values"
   ]
  },
  {
   "cell_type": "code",
   "execution_count": 11,
   "metadata": {},
   "outputs": [],
   "source": [
    "video_list_str = [\"caVideo_nullCount\", \"gbVideo_nullCount\", \n",
    "              \"frVideo_nullCount\", \"deVideo_nullCount\", \"usaVideo_nullCount\"]"
   ]
  },
  {
   "cell_type": "code",
   "execution_count": 12,
   "metadata": {
    "collapsed": true
   },
   "outputs": [],
   "source": [
    "allVideos_nullCount = {}\n",
    "for index, videos in enumerate(all_data):\n",
    "    temp_dic = {}\n",
    "    for col in videos:\n",
    "        #temp_dic = {}\n",
    "        null_val = videos[col].isnull().values.sum()\n",
    "        temp_dic[col] = null_val\n",
    "    allVideos_nullCount[video_list_str[index]] = temp_dic"
   ]
  },
  {
   "cell_type": "code",
   "execution_count": 13,
   "metadata": {},
   "outputs": [
    {
     "name": "stdout",
     "output_type": "stream",
     "text": [
      "{'caVideo_nullCount': {'category_id': 0,\n",
      "                       'channel_title': 0,\n",
      "                       'comment_count': 0,\n",
      "                       'comments_disabled': 0,\n",
      "                       'description': 309,\n",
      "                       'dislikes': 0,\n",
      "                       'likes': 0,\n",
      "                       'publish_time': 0,\n",
      "                       'ratings_disabled': 0,\n",
      "                       'tags': 0,\n",
      "                       'thumbnail_link': 0,\n",
      "                       'title': 0,\n",
      "                       'trending_date': 0,\n",
      "                       'video_error_or_removed': 0,\n",
      "                       'video_id': 0,\n",
      "                       'views': 0},\n",
      " 'deVideo_nullCount': {'category_id': 0,\n",
      "                       'channel_title': 0,\n",
      "                       'comment_count': 0,\n",
      "                       'comments_disabled': 0,\n",
      "                       'description': 754,\n",
      "                       'dislikes': 0,\n",
      "                       'likes': 0,\n",
      "                       'publish_time': 0,\n",
      "                       'ratings_disabled': 0,\n",
      "                       'tags': 0,\n",
      "                       'thumbnail_link': 0,\n",
      "                       'title': 0,\n",
      "                       'trending_date': 0,\n",
      "                       'video_error_or_removed': 0,\n",
      "                       'video_id': 0,\n",
      "                       'views': 0},\n",
      " 'frVideo_nullCount': {'category_id': 0,\n",
      "                       'channel_title': 0,\n",
      "                       'comment_count': 0,\n",
      "                       'comments_disabled': 0,\n",
      "                       'description': 134,\n",
      "                       'dislikes': 0,\n",
      "                       'likes': 0,\n",
      "                       'publish_time': 0,\n",
      "                       'ratings_disabled': 0,\n",
      "                       'tags': 0,\n",
      "                       'thumbnail_link': 0,\n",
      "                       'title': 0,\n",
      "                       'trending_date': 0,\n",
      "                       'video_error_or_removed': 0,\n",
      "                       'video_id': 0,\n",
      "                       'views': 0},\n",
      " 'gbVideo_nullCount': {'category_id': 0,\n",
      "                       'channel_title': 0,\n",
      "                       'comment_count': 0,\n",
      "                       'comments_disabled': 0,\n",
      "                       'description': 161,\n",
      "                       'dislikes': 0,\n",
      "                       'likes': 0,\n",
      "                       'publish_time': 0,\n",
      "                       'ratings_disabled': 0,\n",
      "                       'tags': 0,\n",
      "                       'thumbnail_link': 0,\n",
      "                       'title': 0,\n",
      "                       'trending_date': 0,\n",
      "                       'video_error_or_removed': 0,\n",
      "                       'video_id': 0,\n",
      "                       'views': 0},\n",
      " 'usaVideo_nullCount': {'category_id': 0,\n",
      "                        'channel_title': 0,\n",
      "                        'comment_count': 0,\n",
      "                        'comments_disabled': 0,\n",
      "                        'description': 446,\n",
      "                        'dislikes': 0,\n",
      "                        'likes': 0,\n",
      "                        'publish_time': 0,\n",
      "                        'ratings_disabled': 0,\n",
      "                        'tags': 0,\n",
      "                        'thumbnail_link': 0,\n",
      "                        'title': 0,\n",
      "                        'trending_date': 0,\n",
      "                        'video_error_or_removed': 0,\n",
      "                        'video_id': 0,\n",
      "                        'views': 0}}\n"
     ]
    }
   ],
   "source": [
    "pprint.pprint(allVideos_nullCount )"
   ]
  },
  {
   "cell_type": "markdown",
   "metadata": {},
   "source": [
    "We identify that the Description feature for every dataset contains a lack of information, or just non-entered information. In regards to Semantic Analysis, having no description is vital. \n",
    "\n",
    "However, there are two things to think about for the concern of this information\n",
    "\n",
    "1. The total amount of non-entered values isn't significant enough to cause a concern for validating them or more. Moreover, the upcoming analysis, seperate from this documentation, doesn't has its concerns centered around Natural Language Processing and Semantic Analysis\n",
    "\n",
    "2. If we look at the following Channel Users and Titles of the videos for every country, we observe that these videos are from non-influencers such as fan-made creations, commentators, or others."
   ]
  },
  {
   "cell_type": "code",
   "execution_count": 14,
   "metadata": {
    "scrolled": true
   },
   "outputs": [
    {
     "data": {
      "text/html": [
       "<div>\n",
       "<style>\n",
       "    .dataframe thead tr:only-child th {\n",
       "        text-align: right;\n",
       "    }\n",
       "\n",
       "    .dataframe thead th {\n",
       "        text-align: left;\n",
       "    }\n",
       "\n",
       "    .dataframe tbody tr th {\n",
       "        vertical-align: top;\n",
       "    }\n",
       "</style>\n",
       "<table border=\"1\" class=\"dataframe\">\n",
       "  <thead>\n",
       "    <tr style=\"text-align: right;\">\n",
       "      <th></th>\n",
       "      <th>title</th>\n",
       "      <th>channel_title</th>\n",
       "    </tr>\n",
       "  </thead>\n",
       "  <tbody>\n",
       "    <tr>\n",
       "      <th>42</th>\n",
       "      <td>Dennis Smith Jr. and LeBron James go back and ...</td>\n",
       "      <td>Ben Rohrbach</td>\n",
       "    </tr>\n",
       "    <tr>\n",
       "      <th>47</th>\n",
       "      <td>Stephon Marbury and Jimmer Fredette fight in C...</td>\n",
       "      <td>NBA Highlights · YouTube</td>\n",
       "    </tr>\n",
       "    <tr>\n",
       "      <th>175</th>\n",
       "      <td>Sphaera - demonstrating interaction</td>\n",
       "      <td>Jenny Hanell</td>\n",
       "    </tr>\n",
       "    <tr>\n",
       "      <th>267</th>\n",
       "      <td>Dennis Smith Jr. and LeBron James go back and ...</td>\n",
       "      <td>Ben Rohrbach</td>\n",
       "    </tr>\n",
       "    <tr>\n",
       "      <th>312</th>\n",
       "      <td>Stephon Marbury and Jimmer Fredette fight in C...</td>\n",
       "      <td>NBA Highlights · YouTube</td>\n",
       "    </tr>\n",
       "    <tr>\n",
       "      <th>446</th>\n",
       "      <td>Devin Booker has words with Lakers assistant J...</td>\n",
       "      <td>NBA Highlights · YouTube</td>\n",
       "    </tr>\n",
       "    <tr>\n",
       "      <th>523</th>\n",
       "      <td>Dennis Smith Jr. and LeBron James go back and ...</td>\n",
       "      <td>Ben Rohrbach</td>\n",
       "    </tr>\n",
       "    <tr>\n",
       "      <th>632</th>\n",
       "      <td>Jaylen Brown delivers emotional press conferen...</td>\n",
       "      <td>MassLive</td>\n",
       "    </tr>\n",
       "    <tr>\n",
       "      <th>678</th>\n",
       "      <td>Devin Booker has words with Lakers assistant J...</td>\n",
       "      <td>NBA Highlights · YouTube</td>\n",
       "    </tr>\n",
       "    <tr>\n",
       "      <th>750</th>\n",
       "      <td>Dennis Smith Jr. and LeBron James go back and ...</td>\n",
       "      <td>Ben Rohrbach</td>\n",
       "    </tr>\n",
       "    <tr>\n",
       "      <th>846</th>\n",
       "      <td>Jaylen Brown delivers emotional press conferen...</td>\n",
       "      <td>MassLive</td>\n",
       "    </tr>\n",
       "    <tr>\n",
       "      <th>910</th>\n",
       "      <td>Devin Booker has words with Lakers assistant J...</td>\n",
       "      <td>NBA Highlights · YouTube</td>\n",
       "    </tr>\n",
       "    <tr>\n",
       "      <th>988</th>\n",
       "      <td>Dennis Smith Jr. and LeBron James go back and ...</td>\n",
       "      <td>Ben Rohrbach</td>\n",
       "    </tr>\n",
       "    <tr>\n",
       "      <th>1040</th>\n",
       "      <td>Jaylen Brown delivers emotional press conferen...</td>\n",
       "      <td>MassLive</td>\n",
       "    </tr>\n",
       "    <tr>\n",
       "      <th>1129</th>\n",
       "      <td>mad eye moody - moving eyeball prop</td>\n",
       "      <td>daronjay</td>\n",
       "    </tr>\n",
       "    <tr>\n",
       "      <th>1131</th>\n",
       "      <td>BALL SURPRISE PRANK (woody and kleiny)</td>\n",
       "      <td>Taras Malyar</td>\n",
       "    </tr>\n",
       "    <tr>\n",
       "      <th>1133</th>\n",
       "      <td>Devin Booker has words with Lakers assistant J...</td>\n",
       "      <td>NBA Highlights · YouTube</td>\n",
       "    </tr>\n",
       "    <tr>\n",
       "      <th>1137</th>\n",
       "      <td>Quad9 How To Install with Windows</td>\n",
       "      <td>Quad9 DNS</td>\n",
       "    </tr>\n",
       "    <tr>\n",
       "      <th>1253</th>\n",
       "      <td>Jaylen Brown delivers emotional press conferen...</td>\n",
       "      <td>MassLive</td>\n",
       "    </tr>\n",
       "    <tr>\n",
       "      <th>1345</th>\n",
       "      <td>mad eye moody - moving eyeball prop</td>\n",
       "      <td>daronjay</td>\n",
       "    </tr>\n",
       "  </tbody>\n",
       "</table>\n",
       "</div>"
      ],
      "text/plain": [
       "                                                  title  \\\n",
       "42    Dennis Smith Jr. and LeBron James go back and ...   \n",
       "47    Stephon Marbury and Jimmer Fredette fight in C...   \n",
       "175                 Sphaera - demonstrating interaction   \n",
       "267   Dennis Smith Jr. and LeBron James go back and ...   \n",
       "312   Stephon Marbury and Jimmer Fredette fight in C...   \n",
       "446   Devin Booker has words with Lakers assistant J...   \n",
       "523   Dennis Smith Jr. and LeBron James go back and ...   \n",
       "632   Jaylen Brown delivers emotional press conferen...   \n",
       "678   Devin Booker has words with Lakers assistant J...   \n",
       "750   Dennis Smith Jr. and LeBron James go back and ...   \n",
       "846   Jaylen Brown delivers emotional press conferen...   \n",
       "910   Devin Booker has words with Lakers assistant J...   \n",
       "988   Dennis Smith Jr. and LeBron James go back and ...   \n",
       "1040  Jaylen Brown delivers emotional press conferen...   \n",
       "1129                mad eye moody - moving eyeball prop   \n",
       "1131             BALL SURPRISE PRANK (woody and kleiny)   \n",
       "1133  Devin Booker has words with Lakers assistant J...   \n",
       "1137                  Quad9 How To Install with Windows   \n",
       "1253  Jaylen Brown delivers emotional press conferen...   \n",
       "1345                mad eye moody - moving eyeball prop   \n",
       "\n",
       "                 channel_title  \n",
       "42                Ben Rohrbach  \n",
       "47    NBA Highlights · YouTube  \n",
       "175               Jenny Hanell  \n",
       "267               Ben Rohrbach  \n",
       "312   NBA Highlights · YouTube  \n",
       "446   NBA Highlights · YouTube  \n",
       "523               Ben Rohrbach  \n",
       "632                   MassLive  \n",
       "678   NBA Highlights · YouTube  \n",
       "750               Ben Rohrbach  \n",
       "846                   MassLive  \n",
       "910   NBA Highlights · YouTube  \n",
       "988               Ben Rohrbach  \n",
       "1040                  MassLive  \n",
       "1129                  daronjay  \n",
       "1131              Taras Malyar  \n",
       "1133  NBA Highlights · YouTube  \n",
       "1137                 Quad9 DNS  \n",
       "1253                  MassLive  \n",
       "1345                  daronjay  "
      ]
     },
     "execution_count": 14,
     "metadata": {},
     "output_type": "execute_result"
    }
   ],
   "source": [
    "usaVideo_df[usaVideo_df[\"description\"].isnull() == True][[\"title\",\"channel_title\"]][0:20]"
   ]
  },
  {
   "cell_type": "code",
   "execution_count": 15,
   "metadata": {},
   "outputs": [
    {
     "data": {
      "text/html": [
       "<div>\n",
       "<style>\n",
       "    .dataframe thead tr:only-child th {\n",
       "        text-align: right;\n",
       "    }\n",
       "\n",
       "    .dataframe thead th {\n",
       "        text-align: left;\n",
       "    }\n",
       "\n",
       "    .dataframe tbody tr th {\n",
       "        vertical-align: top;\n",
       "    }\n",
       "</style>\n",
       "<table border=\"1\" class=\"dataframe\">\n",
       "  <thead>\n",
       "    <tr style=\"text-align: right;\">\n",
       "      <th></th>\n",
       "      <th>title</th>\n",
       "      <th>channel_title</th>\n",
       "    </tr>\n",
       "  </thead>\n",
       "  <tbody>\n",
       "    <tr>\n",
       "      <th>98</th>\n",
       "      <td>三屆TVB視帝，拋棄10年青梅竹馬髮妻，為娶小三還不惜與母絕交！</td>\n",
       "      <td>明星百曉生</td>\n",
       "    </tr>\n",
       "    <tr>\n",
       "      <th>115</th>\n",
       "      <td>‘Too Alabama for Alabama’: SNL brutally mocks ...</td>\n",
       "      <td>MAXI POWER</td>\n",
       "    </tr>\n",
       "    <tr>\n",
       "      <th>128</th>\n",
       "      <td>Pres. Trump: Putin's Denials Of Interference I...</td>\n",
       "      <td>The View</td>\n",
       "    </tr>\n",
       "    <tr>\n",
       "      <th>165</th>\n",
       "      <td>Outlander S03E09 i'm melting with you''</td>\n",
       "      <td>Ella bell</td>\n",
       "    </tr>\n",
       "    <tr>\n",
       "      <th>179</th>\n",
       "      <td>شاهد انبهار الاعلام المصري  بتأهل المغرب لكأس ...</td>\n",
       "      <td>Info Press</td>\n",
       "    </tr>\n",
       "    <tr>\n",
       "      <th>182</th>\n",
       "      <td>بالفيديو ... سعد الحريري يتلقى معلومة من خلف ا...</td>\n",
       "      <td>tayyar.org</td>\n",
       "    </tr>\n",
       "    <tr>\n",
       "      <th>276</th>\n",
       "      <td>Writer: My Kids Can't Be Friends With White Pe...</td>\n",
       "      <td>The View</td>\n",
       "    </tr>\n",
       "    <tr>\n",
       "      <th>350</th>\n",
       "      <td>习大大李克强乘风破浪全线出击 中日韩东盟空前合体 特朗普遭重创提前出局？</td>\n",
       "      <td>炮座新观察【各路嘉宾 每日热评】</td>\n",
       "    </tr>\n",
       "    <tr>\n",
       "      <th>371</th>\n",
       "      <td>WATCH LIVE: Attorney General Sessions testifie...</td>\n",
       "      <td>PBS NewsHour</td>\n",
       "    </tr>\n",
       "    <tr>\n",
       "      <th>437</th>\n",
       "      <td>Il fait la statue et échappe à la police penda...</td>\n",
       "      <td>jean registre</td>\n",
       "    </tr>\n",
       "    <tr>\n",
       "      <th>488</th>\n",
       "      <td>Terry Crews: Speaks Out On Being Victim Of Sex...</td>\n",
       "      <td>CelebNews17</td>\n",
       "    </tr>\n",
       "    <tr>\n",
       "      <th>509</th>\n",
       "      <td>The Lead W/ Jake Tapper 11/14/17| The stupidit...</td>\n",
       "      <td>Lavina</td>\n",
       "    </tr>\n",
       "    <tr>\n",
       "      <th>575</th>\n",
       "      <td>中国财长的三句话火了，亿万中产家庭愁大了（20171114第250期）</td>\n",
       "      <td>文昭談古論今 -Wen Zhao Official</td>\n",
       "    </tr>\n",
       "    <tr>\n",
       "      <th>584</th>\n",
       "      <td>Good vybz only</td>\n",
       "      <td>Georgia Webster</td>\n",
       "    </tr>\n",
       "    <tr>\n",
       "      <th>591</th>\n",
       "      <td>Official Kia Stinger Pricing</td>\n",
       "      <td>Motormouth Canada</td>\n",
       "    </tr>\n",
       "    <tr>\n",
       "      <th>595</th>\n",
       "      <td>【六點半新聞】2017 11 15【高鐵一地兩檢通過】38票贊成22票反對議案獲通過/袁國強...</td>\n",
       "      <td>香港新聞台 HK NEWS 【歡迎訂閱】</td>\n",
       "    </tr>\n",
       "    <tr>\n",
       "      <th>673</th>\n",
       "      <td>i’m sorry</td>\n",
       "      <td>shaycarl</td>\n",
       "    </tr>\n",
       "    <tr>\n",
       "      <th>697</th>\n",
       "      <td>Terry Crews: Speaks Out On Being Victim Of Sex...</td>\n",
       "      <td>CelebNews17</td>\n",
       "    </tr>\n",
       "    <tr>\n",
       "      <th>718</th>\n",
       "      <td>UCLA Basketball Players Admit To Shoplifting I...</td>\n",
       "      <td>The View</td>\n",
       "    </tr>\n",
       "    <tr>\n",
       "      <th>849</th>\n",
       "      <td>Sheldon parents taking Sheldon to family Psych...</td>\n",
       "      <td>Sheikh Musa</td>\n",
       "    </tr>\n",
       "  </tbody>\n",
       "</table>\n",
       "</div>"
      ],
      "text/plain": [
       "                                                 title  \\\n",
       "98                    三屆TVB視帝，拋棄10年青梅竹馬髮妻，為娶小三還不惜與母絕交！   \n",
       "115  ‘Too Alabama for Alabama’: SNL brutally mocks ...   \n",
       "128  Pres. Trump: Putin's Denials Of Interference I...   \n",
       "165            Outlander S03E09 i'm melting with you''   \n",
       "179  شاهد انبهار الاعلام المصري  بتأهل المغرب لكأس ...   \n",
       "182  بالفيديو ... سعد الحريري يتلقى معلومة من خلف ا...   \n",
       "276  Writer: My Kids Can't Be Friends With White Pe...   \n",
       "350               习大大李克强乘风破浪全线出击 中日韩东盟空前合体 特朗普遭重创提前出局？   \n",
       "371  WATCH LIVE: Attorney General Sessions testifie...   \n",
       "437  Il fait la statue et échappe à la police penda...   \n",
       "488  Terry Crews: Speaks Out On Being Victim Of Sex...   \n",
       "509  The Lead W/ Jake Tapper 11/14/17| The stupidit...   \n",
       "575                中国财长的三句话火了，亿万中产家庭愁大了（20171114第250期）   \n",
       "584                                     Good vybz only   \n",
       "591                       Official Kia Stinger Pricing   \n",
       "595  【六點半新聞】2017 11 15【高鐵一地兩檢通過】38票贊成22票反對議案獲通過/袁國強...   \n",
       "673                                          i’m sorry   \n",
       "697  Terry Crews: Speaks Out On Being Victim Of Sex...   \n",
       "718  UCLA Basketball Players Admit To Shoplifting I...   \n",
       "849  Sheldon parents taking Sheldon to family Psych...   \n",
       "\n",
       "                 channel_title  \n",
       "98                       明星百曉生  \n",
       "115                 MAXI POWER  \n",
       "128                   The View  \n",
       "165                  Ella bell  \n",
       "179                 Info Press  \n",
       "182                 tayyar.org  \n",
       "276                   The View  \n",
       "350           炮座新观察【各路嘉宾 每日热评】  \n",
       "371               PBS NewsHour  \n",
       "437              jean registre  \n",
       "488                CelebNews17  \n",
       "509                     Lavina  \n",
       "575  文昭談古論今 -Wen Zhao Official  \n",
       "584            Georgia Webster  \n",
       "591          Motormouth Canada  \n",
       "595       香港新聞台 HK NEWS 【歡迎訂閱】  \n",
       "673                   shaycarl  \n",
       "697                CelebNews17  \n",
       "718                   The View  \n",
       "849                Sheikh Musa  "
      ]
     },
     "execution_count": 15,
     "metadata": {},
     "output_type": "execute_result"
    }
   ],
   "source": [
    "caVideo_df[caVideo_df[\"description\"].isnull() == True][[\"title\",\"channel_title\"]][0:20]"
   ]
  },
  {
   "cell_type": "code",
   "execution_count": 16,
   "metadata": {
    "scrolled": true
   },
   "outputs": [
    {
     "data": {
      "text/html": [
       "<div>\n",
       "<style>\n",
       "    .dataframe thead tr:only-child th {\n",
       "        text-align: right;\n",
       "    }\n",
       "\n",
       "    .dataframe thead th {\n",
       "        text-align: left;\n",
       "    }\n",
       "\n",
       "    .dataframe tbody tr th {\n",
       "        vertical-align: top;\n",
       "    }\n",
       "</style>\n",
       "<table border=\"1\" class=\"dataframe\">\n",
       "  <thead>\n",
       "    <tr style=\"text-align: right;\">\n",
       "      <th></th>\n",
       "      <th>title</th>\n",
       "      <th>channel_title</th>\n",
       "    </tr>\n",
       "  </thead>\n",
       "  <tbody>\n",
       "    <tr>\n",
       "      <th>91</th>\n",
       "      <td>Bone on Labour HQ</td>\n",
       "      <td>Ross Kempsell</td>\n",
       "    </tr>\n",
       "    <tr>\n",
       "      <th>118</th>\n",
       "      <td>Arvo Pärt - Tabula Rasa</td>\n",
       "      <td>JSaxofone</td>\n",
       "    </tr>\n",
       "    <tr>\n",
       "      <th>187</th>\n",
       "      <td>Brad Bufanda Demo Reel</td>\n",
       "      <td>EinsteinEnt</td>\n",
       "    </tr>\n",
       "    <tr>\n",
       "      <th>309</th>\n",
       "      <td>Bone on Labour HQ</td>\n",
       "      <td>Ross Kempsell</td>\n",
       "    </tr>\n",
       "    <tr>\n",
       "      <th>336</th>\n",
       "      <td>Arvo Pärt - Tabula Rasa</td>\n",
       "      <td>JSaxofone</td>\n",
       "    </tr>\n",
       "    <tr>\n",
       "      <th>394</th>\n",
       "      <td>Brad Bufanda Demo Reel</td>\n",
       "      <td>EinsteinEnt</td>\n",
       "    </tr>\n",
       "    <tr>\n",
       "      <th>521</th>\n",
       "      <td>Bone on Labour HQ</td>\n",
       "      <td>Ross Kempsell</td>\n",
       "    </tr>\n",
       "    <tr>\n",
       "      <th>546</th>\n",
       "      <td>Arvo Pärt - Tabula Rasa</td>\n",
       "      <td>JSaxofone</td>\n",
       "    </tr>\n",
       "    <tr>\n",
       "      <th>760</th>\n",
       "      <td>Bone on Labour HQ</td>\n",
       "      <td>Ross Kempsell</td>\n",
       "    </tr>\n",
       "    <tr>\n",
       "      <th>787</th>\n",
       "      <td>Arvo Pärt - Tabula Rasa</td>\n",
       "      <td>JSaxofone</td>\n",
       "    </tr>\n",
       "    <tr>\n",
       "      <th>975</th>\n",
       "      <td>Bone on Labour HQ</td>\n",
       "      <td>Ross Kempsell</td>\n",
       "    </tr>\n",
       "    <tr>\n",
       "      <th>1104</th>\n",
       "      <td>President Trump ASEAN Summit SPEECH With Duter...</td>\n",
       "      <td>President Trump</td>\n",
       "    </tr>\n",
       "    <tr>\n",
       "      <th>1183</th>\n",
       "      <td>Bone on Labour HQ</td>\n",
       "      <td>Ross Kempsell</td>\n",
       "    </tr>\n",
       "    <tr>\n",
       "      <th>1309</th>\n",
       "      <td>President Trump ASEAN Summit SPEECH With Duter...</td>\n",
       "      <td>President Trump</td>\n",
       "    </tr>\n",
       "    <tr>\n",
       "      <th>1390</th>\n",
       "      <td>Bone on Labour HQ</td>\n",
       "      <td>Ross Kempsell</td>\n",
       "    </tr>\n",
       "    <tr>\n",
       "      <th>1524</th>\n",
       "      <td>President Trump ASEAN Summit SPEECH With Duter...</td>\n",
       "      <td>President Trump</td>\n",
       "    </tr>\n",
       "    <tr>\n",
       "      <th>1734</th>\n",
       "      <td>President Trump ASEAN Summit SPEECH With Duter...</td>\n",
       "      <td>President Trump</td>\n",
       "    </tr>\n",
       "    <tr>\n",
       "      <th>1861</th>\n",
       "      <td>ET: BTS Reveals What Their 'Dream' American Mu...</td>\n",
       "      <td>cntlu</td>\n",
       "    </tr>\n",
       "    <tr>\n",
       "      <th>1969</th>\n",
       "      <td>President Trump ASEAN Summit SPEECH With Duter...</td>\n",
       "      <td>President Trump</td>\n",
       "    </tr>\n",
       "    <tr>\n",
       "      <th>2040</th>\n",
       "      <td>And now -  CBS This Mornings awkward sex talk</td>\n",
       "      <td>Andnowthesethings</td>\n",
       "    </tr>\n",
       "    <tr>\n",
       "      <th>2065</th>\n",
       "      <td>ET: BTS Reveals What Their 'Dream' American Mu...</td>\n",
       "      <td>cntlu</td>\n",
       "    </tr>\n",
       "    <tr>\n",
       "      <th>2179</th>\n",
       "      <td>President Trump ASEAN Summit SPEECH With Duter...</td>\n",
       "      <td>President Trump</td>\n",
       "    </tr>\n",
       "    <tr>\n",
       "      <th>2247</th>\n",
       "      <td>And now -  CBS This Mornings awkward sex talk</td>\n",
       "      <td>Andnowthesethings</td>\n",
       "    </tr>\n",
       "    <tr>\n",
       "      <th>2272</th>\n",
       "      <td>ET: BTS Reveals What Their 'Dream' American Mu...</td>\n",
       "      <td>cntlu</td>\n",
       "    </tr>\n",
       "    <tr>\n",
       "      <th>2389</th>\n",
       "      <td>President Trump ASEAN Summit SPEECH With Duter...</td>\n",
       "      <td>President Trump</td>\n",
       "    </tr>\n",
       "    <tr>\n",
       "      <th>2450</th>\n",
       "      <td>And now -  CBS This Mornings awkward sex talk</td>\n",
       "      <td>Andnowthesethings</td>\n",
       "    </tr>\n",
       "    <tr>\n",
       "      <th>2478</th>\n",
       "      <td>ET: BTS Reveals What Their 'Dream' American Mu...</td>\n",
       "      <td>cntlu</td>\n",
       "    </tr>\n",
       "    <tr>\n",
       "      <th>2595</th>\n",
       "      <td>President Trump ASEAN Summit SPEECH With Duter...</td>\n",
       "      <td>President Trump</td>\n",
       "    </tr>\n",
       "    <tr>\n",
       "      <th>2635</th>\n",
       "      <td>Little Mix - Glory Days The Documentary</td>\n",
       "      <td>Little Mix</td>\n",
       "    </tr>\n",
       "    <tr>\n",
       "      <th>2656</th>\n",
       "      <td>And now -  CBS This Mornings awkward sex talk</td>\n",
       "      <td>Andnowthesethings</td>\n",
       "    </tr>\n",
       "    <tr>\n",
       "      <th>...</th>\n",
       "      <td>...</td>\n",
       "      <td>...</td>\n",
       "    </tr>\n",
       "    <tr>\n",
       "      <th>5011</th>\n",
       "      <td>Adrienne and Israel Houghton Perform The Gift</td>\n",
       "      <td>The Real Daytime</td>\n",
       "    </tr>\n",
       "    <tr>\n",
       "      <th>5182</th>\n",
       "      <td>Meghan Markle Engaged To Prince Harry | The View</td>\n",
       "      <td>The View</td>\n",
       "    </tr>\n",
       "    <tr>\n",
       "      <th>5211</th>\n",
       "      <td>Adrienne and Israel Houghton Perform The Gift</td>\n",
       "      <td>The Real Daytime</td>\n",
       "    </tr>\n",
       "    <tr>\n",
       "      <th>5392</th>\n",
       "      <td>Meghan Markle Engaged To Prince Harry | The View</td>\n",
       "      <td>The View</td>\n",
       "    </tr>\n",
       "    <tr>\n",
       "      <th>5415</th>\n",
       "      <td>Adrienne and Israel Houghton Perform The Gift</td>\n",
       "      <td>The Real Daytime</td>\n",
       "    </tr>\n",
       "    <tr>\n",
       "      <th>5638</th>\n",
       "      <td>Adrienne and Israel Houghton Perform The Gift</td>\n",
       "      <td>The Real Daytime</td>\n",
       "    </tr>\n",
       "    <tr>\n",
       "      <th>5834</th>\n",
       "      <td>Carson Wentz Gets Injured Vs Rams Torn ACL</td>\n",
       "      <td>budleewiser</td>\n",
       "    </tr>\n",
       "    <tr>\n",
       "      <th>5854</th>\n",
       "      <td>Adrienne and Israel Houghton Perform The Gift</td>\n",
       "      <td>The Real Daytime</td>\n",
       "    </tr>\n",
       "    <tr>\n",
       "      <th>6052</th>\n",
       "      <td>Carson Wentz Gets Injured Vs Rams Torn ACL</td>\n",
       "      <td>budleewiser</td>\n",
       "    </tr>\n",
       "    <tr>\n",
       "      <th>6271</th>\n",
       "      <td>Carson Wentz Gets Injured Vs Rams Torn ACL</td>\n",
       "      <td>budleewiser</td>\n",
       "    </tr>\n",
       "    <tr>\n",
       "      <th>6495</th>\n",
       "      <td>Arrested Development - Finish Each Others Sand...</td>\n",
       "      <td>Levi Luttrell</td>\n",
       "    </tr>\n",
       "    <tr>\n",
       "      <th>6498</th>\n",
       "      <td>Carson Wentz Gets Injured Vs Rams Torn ACL</td>\n",
       "      <td>budleewiser</td>\n",
       "    </tr>\n",
       "    <tr>\n",
       "      <th>6703</th>\n",
       "      <td>Arrested Development - Finish Each Others Sand...</td>\n",
       "      <td>Levi Luttrell</td>\n",
       "    </tr>\n",
       "    <tr>\n",
       "      <th>6704</th>\n",
       "      <td>Carson Wentz Gets Injured Vs Rams Torn ACL</td>\n",
       "      <td>budleewiser</td>\n",
       "    </tr>\n",
       "    <tr>\n",
       "      <th>6913</th>\n",
       "      <td>Arrested Development - Finish Each Others Sand...</td>\n",
       "      <td>Levi Luttrell</td>\n",
       "    </tr>\n",
       "    <tr>\n",
       "      <th>6914</th>\n",
       "      <td>Carson Wentz Gets Injured Vs Rams Torn ACL</td>\n",
       "      <td>budleewiser</td>\n",
       "    </tr>\n",
       "    <tr>\n",
       "      <th>7122</th>\n",
       "      <td>Arrested Development - Finish Each Others Sand...</td>\n",
       "      <td>Levi Luttrell</td>\n",
       "    </tr>\n",
       "    <tr>\n",
       "      <th>7123</th>\n",
       "      <td>Carson Wentz Gets Injured Vs Rams Torn ACL</td>\n",
       "      <td>budleewiser</td>\n",
       "    </tr>\n",
       "    <tr>\n",
       "      <th>7334</th>\n",
       "      <td>Arrested Development - Finish Each Others Sand...</td>\n",
       "      <td>Levi Luttrell</td>\n",
       "    </tr>\n",
       "    <tr>\n",
       "      <th>7335</th>\n",
       "      <td>Carson Wentz Gets Injured Vs Rams Torn ACL</td>\n",
       "      <td>budleewiser</td>\n",
       "    </tr>\n",
       "    <tr>\n",
       "      <th>7553</th>\n",
       "      <td>Arrested Development - Finish Each Others Sand...</td>\n",
       "      <td>Levi Luttrell</td>\n",
       "    </tr>\n",
       "    <tr>\n",
       "      <th>7554</th>\n",
       "      <td>Carson Wentz Gets Injured Vs Rams Torn ACL</td>\n",
       "      <td>budleewiser</td>\n",
       "    </tr>\n",
       "    <tr>\n",
       "      <th>7763</th>\n",
       "      <td>Arrested Development - Finish Each Others Sand...</td>\n",
       "      <td>Levi Luttrell</td>\n",
       "    </tr>\n",
       "    <tr>\n",
       "      <th>7764</th>\n",
       "      <td>Carson Wentz Gets Injured Vs Rams Torn ACL</td>\n",
       "      <td>budleewiser</td>\n",
       "    </tr>\n",
       "    <tr>\n",
       "      <th>7969</th>\n",
       "      <td>Arrested Development - Finish Each Others Sand...</td>\n",
       "      <td>Levi Luttrell</td>\n",
       "    </tr>\n",
       "    <tr>\n",
       "      <th>7970</th>\n",
       "      <td>Carson Wentz Gets Injured Vs Rams Torn ACL</td>\n",
       "      <td>budleewiser</td>\n",
       "    </tr>\n",
       "    <tr>\n",
       "      <th>8180</th>\n",
       "      <td>Arrested Development - Finish Each Others Sand...</td>\n",
       "      <td>Levi Luttrell</td>\n",
       "    </tr>\n",
       "    <tr>\n",
       "      <th>8181</th>\n",
       "      <td>Carson Wentz Gets Injured Vs Rams Torn ACL</td>\n",
       "      <td>budleewiser</td>\n",
       "    </tr>\n",
       "    <tr>\n",
       "      <th>8195</th>\n",
       "      <td>Rocket in the Sky plus Accident.</td>\n",
       "      <td>Mark Sales</td>\n",
       "    </tr>\n",
       "    <tr>\n",
       "      <th>8387</th>\n",
       "      <td>Arrested Development - Finish Each Others Sand...</td>\n",
       "      <td>Levi Luttrell</td>\n",
       "    </tr>\n",
       "  </tbody>\n",
       "</table>\n",
       "<p>100 rows × 2 columns</p>\n",
       "</div>"
      ],
      "text/plain": [
       "                                                  title      channel_title\n",
       "91                                    Bone on Labour HQ      Ross Kempsell\n",
       "118                             Arvo Pärt - Tabula Rasa          JSaxofone\n",
       "187                              Brad Bufanda Demo Reel        EinsteinEnt\n",
       "309                                   Bone on Labour HQ      Ross Kempsell\n",
       "336                             Arvo Pärt - Tabula Rasa          JSaxofone\n",
       "394                              Brad Bufanda Demo Reel        EinsteinEnt\n",
       "521                                   Bone on Labour HQ      Ross Kempsell\n",
       "546                             Arvo Pärt - Tabula Rasa          JSaxofone\n",
       "760                                   Bone on Labour HQ      Ross Kempsell\n",
       "787                             Arvo Pärt - Tabula Rasa          JSaxofone\n",
       "975                                   Bone on Labour HQ      Ross Kempsell\n",
       "1104  President Trump ASEAN Summit SPEECH With Duter...    President Trump\n",
       "1183                                  Bone on Labour HQ      Ross Kempsell\n",
       "1309  President Trump ASEAN Summit SPEECH With Duter...    President Trump\n",
       "1390                                  Bone on Labour HQ      Ross Kempsell\n",
       "1524  President Trump ASEAN Summit SPEECH With Duter...    President Trump\n",
       "1734  President Trump ASEAN Summit SPEECH With Duter...    President Trump\n",
       "1861  ET: BTS Reveals What Their 'Dream' American Mu...              cntlu\n",
       "1969  President Trump ASEAN Summit SPEECH With Duter...    President Trump\n",
       "2040      And now -  CBS This Mornings awkward sex talk  Andnowthesethings\n",
       "2065  ET: BTS Reveals What Their 'Dream' American Mu...              cntlu\n",
       "2179  President Trump ASEAN Summit SPEECH With Duter...    President Trump\n",
       "2247      And now -  CBS This Mornings awkward sex talk  Andnowthesethings\n",
       "2272  ET: BTS Reveals What Their 'Dream' American Mu...              cntlu\n",
       "2389  President Trump ASEAN Summit SPEECH With Duter...    President Trump\n",
       "2450      And now -  CBS This Mornings awkward sex talk  Andnowthesethings\n",
       "2478  ET: BTS Reveals What Their 'Dream' American Mu...              cntlu\n",
       "2595  President Trump ASEAN Summit SPEECH With Duter...    President Trump\n",
       "2635            Little Mix - Glory Days The Documentary         Little Mix\n",
       "2656      And now -  CBS This Mornings awkward sex talk  Andnowthesethings\n",
       "...                                                 ...                ...\n",
       "5011      Adrienne and Israel Houghton Perform The Gift   The Real Daytime\n",
       "5182   Meghan Markle Engaged To Prince Harry | The View           The View\n",
       "5211      Adrienne and Israel Houghton Perform The Gift   The Real Daytime\n",
       "5392   Meghan Markle Engaged To Prince Harry | The View           The View\n",
       "5415      Adrienne and Israel Houghton Perform The Gift   The Real Daytime\n",
       "5638      Adrienne and Israel Houghton Perform The Gift   The Real Daytime\n",
       "5834         Carson Wentz Gets Injured Vs Rams Torn ACL        budleewiser\n",
       "5854      Adrienne and Israel Houghton Perform The Gift   The Real Daytime\n",
       "6052         Carson Wentz Gets Injured Vs Rams Torn ACL        budleewiser\n",
       "6271         Carson Wentz Gets Injured Vs Rams Torn ACL        budleewiser\n",
       "6495  Arrested Development - Finish Each Others Sand...      Levi Luttrell\n",
       "6498         Carson Wentz Gets Injured Vs Rams Torn ACL        budleewiser\n",
       "6703  Arrested Development - Finish Each Others Sand...      Levi Luttrell\n",
       "6704         Carson Wentz Gets Injured Vs Rams Torn ACL        budleewiser\n",
       "6913  Arrested Development - Finish Each Others Sand...      Levi Luttrell\n",
       "6914         Carson Wentz Gets Injured Vs Rams Torn ACL        budleewiser\n",
       "7122  Arrested Development - Finish Each Others Sand...      Levi Luttrell\n",
       "7123         Carson Wentz Gets Injured Vs Rams Torn ACL        budleewiser\n",
       "7334  Arrested Development - Finish Each Others Sand...      Levi Luttrell\n",
       "7335         Carson Wentz Gets Injured Vs Rams Torn ACL        budleewiser\n",
       "7553  Arrested Development - Finish Each Others Sand...      Levi Luttrell\n",
       "7554         Carson Wentz Gets Injured Vs Rams Torn ACL        budleewiser\n",
       "7763  Arrested Development - Finish Each Others Sand...      Levi Luttrell\n",
       "7764         Carson Wentz Gets Injured Vs Rams Torn ACL        budleewiser\n",
       "7969  Arrested Development - Finish Each Others Sand...      Levi Luttrell\n",
       "7970         Carson Wentz Gets Injured Vs Rams Torn ACL        budleewiser\n",
       "8180  Arrested Development - Finish Each Others Sand...      Levi Luttrell\n",
       "8181         Carson Wentz Gets Injured Vs Rams Torn ACL        budleewiser\n",
       "8195                   Rocket in the Sky plus Accident.         Mark Sales\n",
       "8387  Arrested Development - Finish Each Others Sand...      Levi Luttrell\n",
       "\n",
       "[100 rows x 2 columns]"
      ]
     },
     "execution_count": 16,
     "metadata": {},
     "output_type": "execute_result"
    }
   ],
   "source": [
    "gbVideo_df[gbVideo_df[\"description\"].isnull() == True][[\"title\",\"channel_title\"]][0:100]"
   ]
  },
  {
   "cell_type": "markdown",
   "metadata": {},
   "source": [
    "Therefore, we sadly delete the the rows that contain a lack of information in the description feature. \n",
    "\n",
    "(**Note:** I do not recommend such conclusions in analyses. Deleting information creates misinformation, potential biases, and more. However, we can choose to delete this cases for the sake of lack of importance or dependency of this project. \n",
    "\n",
    "I.e. This is a side project, and it's no concern.)\n",
    "\n",
    "Addtional note: Did you see those Donald Trump Channel users? Interesting amount of imposter channels based of him...weird."
   ]
  },
  {
   "cell_type": "markdown",
   "metadata": {},
   "source": [
    "### 3.3 New Feature"
   ]
  },
  {
   "cell_type": "markdown",
   "metadata": {},
   "source": [
    "For our analysis, may want to want to add a new feature \"Country\", for all datasets concatentated. \n",
    "\n",
    "This categorical variable allows us to obersve a new dimension in visualizations."
   ]
  },
  {
   "cell_type": "code",
   "execution_count": 17,
   "metadata": {},
   "outputs": [],
   "source": [
    "caVideo_df[\"Country\"] = [\"CA\" for  x in range(0,len(caVideo_df) )]\n",
    "usaVideo_df[\"Country\"] = [\"USA\" for x in range(0,len(usaVideo_df) )]\n",
    "gbVideo_df[\"Country\"] = [\"GB\" for x in range(0,len(gbVideo_df) )]\n",
    "frVideo_df[\"Country\"] = [\"FR\" for x in range(0,len(frVideo_df) )]\n",
    "deVideo_df[\"Country\"] = [\"DE\" for x in range(0,len(deVideo_df) )]"
   ]
  },
  {
   "cell_type": "markdown",
   "metadata": {},
   "source": [
    "### 3.4 Drop Information\n",
    "\n",
    "Here, we drop any null values that exist in each dataset. As seen from before, the following are the number of missing \"Description values. "
   ]
  },
  {
   "cell_type": "code",
   "execution_count": 18,
   "metadata": {},
   "outputs": [
    {
     "name": "stdout",
     "output_type": "stream",
     "text": [
      "caVideo_nullCount Total Null Value Description Count:  309\n",
      "frVideo_nullCount Total Null Value Description Count:  134\n",
      "deVideo_nullCount Total Null Value Description Count:  754\n",
      "usaVideo_nullCount Total Null Value Description Count:  446\n",
      "gbVideo_nullCount Total Null Value Description Count:  161\n"
     ]
    }
   ],
   "source": [
    "for key, vals in allVideos_nullCount.items():\n",
    "    print(key, \"Total Null Value Description Count: \",vals[\"description\"])"
   ]
  },
  {
   "cell_type": "markdown",
   "metadata": {},
   "source": [
    "Because there is no significant amount of null values, we therefore \"drop\" them, as mentioned earlier in this inspection."
   ]
  },
  {
   "cell_type": "code",
   "execution_count": 19,
   "metadata": {},
   "outputs": [],
   "source": [
    "#Delete Rows containing nulls in Description column for all datasets\n",
    "caVideo_df.dropna(axis = 0, subset=[\"description\"], inplace = True)\n",
    "usaVideo_df.dropna(axis = 0, subset=[\"description\"], inplace = True)\n",
    "gbVideo_df.dropna(axis = 0, subset=[\"description\"], inplace = True)\n",
    "deVideo_df.dropna(axis = 0, subset=[\"description\"], inplace = True)\n",
    "frVideo_df.dropna(axis = 0, subset=[\"description\"], inplace = True)"
   ]
  },
  {
   "cell_type": "markdown",
   "metadata": {},
   "source": [
    "### 3.5 Combining Datasets\n",
    "\n",
    "Now, we combine all datasets to get an estimated **50,000 rows by 17 columns** dataset."
   ]
  },
  {
   "cell_type": "code",
   "execution_count": 20,
   "metadata": {},
   "outputs": [],
   "source": [
    "main_df = pd.concat(all_data)"
   ]
  },
  {
   "cell_type": "markdown",
   "metadata": {},
   "source": [
    "### 3.6 Unique Rows\n",
    "\n",
    "Deleting duplicate rows, if they exist."
   ]
  },
  {
   "cell_type": "code",
   "execution_count": 21,
   "metadata": {},
   "outputs": [],
   "source": [
    "main_df.drop_duplicates(inplace = True)\n"
   ]
  },
  {
   "cell_type": "code",
   "execution_count": 22,
   "metadata": {},
   "outputs": [
    {
     "data": {
      "text/plain": [
       "'\\nfor a in range(0,len(main_df[\"trending_date\"])):\\n    if(\".\" in str(main_df.iloc[a][\"trending_date\"])):\\n        x = str(main_df.iloc[a][\"trending_date\"]).split(\".\")\\n        print(x)\\n        main_df.at[a,\"trending_date\"] = x[2]+\"/\"+ x[1]+ \"/20\"+x[0]\\n    else:\\n        continue\\n'"
      ]
     },
     "execution_count": 22,
     "metadata": {},
     "output_type": "execute_result"
    }
   ],
   "source": [
    "'''\n",
    "bad idea\n",
    "for a in range(len(main_df[\"trending_date\"])):\n",
    "    x = str(main_df.iloc[a][\"trending_date\"]).split(\".\")\n",
    "\n",
    "    main_df.iloc[a][\"trending_date\"] = x[2]+\"/\"+ x[1]+ \"/20\"+x[0]\n",
    "main_df[\"trending_date\"]\n",
    "'''\n",
    "\n",
    "'''\n",
    "for a in range(0,len(main_df[\"trending_date\"])):\n",
    "    if(\".\" in str(main_df.iloc[a][\"trending_date\"])):\n",
    "        x = str(main_df.iloc[a][\"trending_date\"]).split(\".\")\n",
    "        print(x)\n",
    "        main_df.at[a,\"trending_date\"] = x[2]+\"/\"+ x[1]+ \"/20\"+x[0]\n",
    "    else:\n",
    "        continue\n",
    "'''"
   ]
  },
  {
   "cell_type": "markdown",
   "metadata": {},
   "source": [
    "### 3.8 Category Name\n",
    "\n",
    "One last item. We would like to provide names to the \"category_id\" feature to get a sense of what categories these videos lie in. \n",
    "\n",
    "Grabbing some information from [this Gist on Youtube Category names](https://gist.github.com/dgp/1b24bf2961521bd75d6c), we identify the category names for the \"\"category_id\" feature."
   ]
  },
  {
   "cell_type": "code",
   "execution_count": 23,
   "metadata": {},
   "outputs": [],
   "source": [
    "#Bring in Category Ids and Names\n",
    "category_ids = pd.read_csv(\"../Resources/YoutubeResources/Youtube-IDs.csv\",usecols=[\"category_id\",\"category_name\"] )\n",
    "\n",
    "#Join datasets \n",
    "main_df = main_df.merge(category_ids, left_on = \"category_id\",right_on=\"category_id\",how = \"inner\")"
   ]
  },
  {
   "cell_type": "markdown",
   "metadata": {},
   "source": [
    "## 4.0 Export\n",
    "\n",
    "Lastly, we export the, already clean, but super clean, dataset with the following features:\n",
    "\n",
    "1. video_id\n",
    "\n",
    "2. trending_date\n",
    "\n",
    "3. title \n",
    "\n",
    "4. channel_title\n",
    "\n",
    "5. category_id\n",
    "\n",
    "6. category_name\n",
    "\n",
    "7. publish_time\n",
    "\n",
    "8. views\n",
    "\n",
    "9. likes \n",
    "\n",
    "10. dislikes\n",
    "\n",
    "11. comment_count\n",
    "\n",
    "12. comments_disabled\n",
    "\n",
    "13. ratings_disabled\n",
    "\n",
    "14. video_error_or_removed\n",
    "\n",
    "15. description\n",
    "\n",
    "16. Country\n",
    "\n"
   ]
  },
  {
   "cell_type": "code",
   "execution_count": 24,
   "metadata": {},
   "outputs": [],
   "source": [
    "youtubeVid_exportDF = main_df[[\"video_id\",\"trending_date\",\"title\",\"channel_title\",\"category_id\",\n",
    "                               \"category_name\",\"publish_time\",\"views\",\"likes\",\"dislikes\",\"comment_count\",\"comments_disabled\",\n",
    "                               \"ratings_disabled\",\"video_error_or_removed\",\"description\",\"Country\"]]"
   ]
  },
  {
   "cell_type": "code",
   "execution_count": 25,
   "metadata": {},
   "outputs": [],
   "source": [
    "youtubeVid_exportDF.to_csv(path_or_buf=\"../Data/youtubeVid_main.csv\", sep=',')"
   ]
  }
 ],
 "metadata": {
  "anaconda-cloud": {},
  "kernelspec": {
   "display_name": "Python [conda root]",
   "language": "python",
   "name": "conda-root-py"
  },
  "language_info": {
   "codemirror_mode": {
    "name": "ipython",
    "version": 3
   },
   "file_extension": ".py",
   "mimetype": "text/x-python",
   "name": "python",
   "nbconvert_exporter": "python",
   "pygments_lexer": "ipython3",
   "version": "3.5.3"
  }
 },
 "nbformat": 4,
 "nbformat_minor": 2
}
