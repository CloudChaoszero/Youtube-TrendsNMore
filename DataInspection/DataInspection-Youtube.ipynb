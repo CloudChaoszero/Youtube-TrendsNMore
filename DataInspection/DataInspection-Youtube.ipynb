{
 "cells": [
  {
   "cell_type": "markdown",
   "metadata": {},
   "source": [
    "# Youtube Data Exploration & Cleaning"
   ]
  },
  {
   "cell_type": "markdown",
   "metadata": {},
   "source": [
    "![\"Bronze Button\"](https://pbs.twimg.com/media/C1WZpigXUAQMQLj.jpg)"
   ]
  },
  {
   "cell_type": "markdown",
   "metadata": {},
   "source": [
    "## Imports\n",
    "\n",
    "We locally import the Youtube datasets using Pandas. Thereafter, we utilize Pprint at some point to easily visualize and identify ouput.\n",
    "\n",
    "The regions of the Youtube video information are the following:\n",
    "\n",
    "1. Canada\n",
    "\n",
    "2. United States of America\n",
    "\n",
    "3. Great Britain\n",
    "\n",
    "4. France\n",
    "\n",
    "5. Germany"
   ]
  },
  {
   "cell_type": "code",
   "execution_count": 52,
   "metadata": {},
   "outputs": [],
   "source": [
    "#Minimum requirements for cleaning\n",
    "\n",
    "import pandas as pd\n",
    "import pprint\n",
    "\n",
    "import matplotlib.pyplot as plt"
   ]
  },
  {
   "cell_type": "code",
   "execution_count": 23,
   "metadata": {
    "collapsed": true
   },
   "outputs": [],
   "source": [
    "#Import Canadian, American, British, French, and Germany Youtube video data, respectively\n",
    "\n",
    "caVideo_df = pd.read_csv(\"../Data/CAvideos.csv\")\n",
    "usaVideo_df = pd.read_csv(\"../Data/USvideos.csv\")\n",
    "gbVideo_df = pd.read_csv(\"../Data/GBvideos.csv\")\n",
    "frVideo_df = pd.read_csv(\"../Data/FRvideos.csv\")\n",
    "deVideo_df = pd.read_csv(\"../Data/DEvideos.csv\")\n"
   ]
  },
  {
   "cell_type": "markdown",
   "metadata": {},
   "source": [
    "## Inspection\n",
    "\n",
    "We first evaluate the type of features we have for our datasets. Moreover, we identify a few characteristics of the information!\n",
    "\n",
    "### What features we have available, type of info we have"
   ]
  },
  {
   "cell_type": "code",
   "execution_count": 33,
   "metadata": {},
   "outputs": [
    {
     "data": {
      "text/html": [
       "<div>\n",
       "<style>\n",
       "    .dataframe thead tr:only-child th {\n",
       "        text-align: right;\n",
       "    }\n",
       "\n",
       "    .dataframe thead th {\n",
       "        text-align: left;\n",
       "    }\n",
       "\n",
       "    .dataframe tbody tr th {\n",
       "        vertical-align: top;\n",
       "    }\n",
       "</style>\n",
       "<table border=\"1\" class=\"dataframe\">\n",
       "  <thead>\n",
       "    <tr style=\"text-align: right;\">\n",
       "      <th></th>\n",
       "      <th>video_id</th>\n",
       "      <th>trending_date</th>\n",
       "      <th>title</th>\n",
       "      <th>channel_title</th>\n",
       "      <th>category_id</th>\n",
       "      <th>publish_time</th>\n",
       "      <th>tags</th>\n",
       "      <th>views</th>\n",
       "      <th>likes</th>\n",
       "      <th>dislikes</th>\n",
       "      <th>comment_count</th>\n",
       "      <th>thumbnail_link</th>\n",
       "      <th>comments_disabled</th>\n",
       "      <th>ratings_disabled</th>\n",
       "      <th>video_error_or_removed</th>\n",
       "      <th>description</th>\n",
       "    </tr>\n",
       "  </thead>\n",
       "  <tbody>\n",
       "    <tr>\n",
       "      <th>0</th>\n",
       "      <td>Ro6eob0LrCY</td>\n",
       "      <td>17.14.11</td>\n",
       "      <td>Malika LePen : Femme de Gauche - Trailer</td>\n",
       "      <td>Le Raptor Dissident</td>\n",
       "      <td>24</td>\n",
       "      <td>2017-11-13T17:32:55.000Z</td>\n",
       "      <td>Raptor|\"Dissident\"|\"Expliquez\"|\"moi\"|\"cette\"|\"...</td>\n",
       "      <td>212702</td>\n",
       "      <td>29282</td>\n",
       "      <td>1108</td>\n",
       "      <td>3817</td>\n",
       "      <td>https://i.ytimg.com/vi/Ro6eob0LrCY/default.jpg</td>\n",
       "      <td>False</td>\n",
       "      <td>False</td>\n",
       "      <td>False</td>\n",
       "      <td>Dimanche.\\n18h30.\\nSoyez présents pour la vidé...</td>\n",
       "    </tr>\n",
       "  </tbody>\n",
       "</table>\n",
       "</div>"
      ],
      "text/plain": [
       "      video_id trending_date                                     title  \\\n",
       "0  Ro6eob0LrCY      17.14.11  Malika LePen : Femme de Gauche - Trailer   \n",
       "\n",
       "         channel_title  category_id              publish_time  \\\n",
       "0  Le Raptor Dissident           24  2017-11-13T17:32:55.000Z   \n",
       "\n",
       "                                                tags   views  likes  dislikes  \\\n",
       "0  Raptor|\"Dissident\"|\"Expliquez\"|\"moi\"|\"cette\"|\"...  212702  29282      1108   \n",
       "\n",
       "   comment_count                                  thumbnail_link  \\\n",
       "0           3817  https://i.ytimg.com/vi/Ro6eob0LrCY/default.jpg   \n",
       "\n",
       "   comments_disabled  ratings_disabled  video_error_or_removed  \\\n",
       "0              False             False                   False   \n",
       "\n",
       "                                         description  \n",
       "0  Dimanche.\\n18h30.\\nSoyez présents pour la vidé...  "
      ]
     },
     "execution_count": 33,
     "metadata": {},
     "output_type": "execute_result"
    }
   ],
   "source": [
    "frVideo_df.head(1)"
   ]
  },
  {
   "cell_type": "markdown",
   "metadata": {},
   "source": [
    "### Total Count of Rows and Features"
   ]
  },
  {
   "cell_type": "code",
   "execution_count": 38,
   "metadata": {},
   "outputs": [
    {
     "name": "stdout",
     "output_type": "stream",
     "text": [
      "Total of rows and features for Canada:,  (10592, 16)\n",
      "Total of rows and features for USA:,  (10600, 16)\n",
      "Total of rows and features for Great Britain:,  (10593, 16)\n",
      "Total of rows and features for France:,  (10594, 16)\n",
      "Total of rows and features for Germany:,  (10597, 16)\n"
     ]
    }
   ],
   "source": [
    "print(\"Total of rows and features for Canada:, \",caVideo_df.shape)\n",
    "print(\"Total of rows and features for USA:, \",usaVideo_df.shape)\n",
    "print(\"Total of rows and features for Great Britain:, \",gbVideo_df.shape)\n",
    "print(\"Total of rows and features for France:, \",frVideo_df.shape)\n",
    "print(\"Total of rows and features for Germany:, \",deVideo_df.shape)"
   ]
  },
  {
   "cell_type": "markdown",
   "metadata": {},
   "source": [
    "We observe discrepancies between the amount of rows for each dataframe. I do not have any future intentions to join the dataset, because they are in no way relational by feature. However, since these dataframes have the same amount of columns. I would like to concantente the information into one dataset, with their Country of origin being the 17th column, for future analysis.\n",
    "\n",
    "The processing speed to evaluate this information will be slower. However, it is not significant to affect the computational computing for our computers, as seen later \n",
    "\n",
    "Hint: Dropping Features\n",
    "\n",
    "### Descriptive Statistics and Thoughts"
   ]
  },
  {
   "cell_type": "markdown",
   "metadata": {},
   "source": [
    "\n",
    "IDEA: Make a function to easily build up the visualizations? This would also work in another file by making such a thing a .py file"
   ]
  },
  {
   "cell_type": "code",
   "execution_count": 116,
   "metadata": {},
   "outputs": [
    {
     "name": "stdout",
     "output_type": "stream",
     "text": [
      "[43328.312405589124, 47502.104433962268, 70507.231756820547, 15950.496507457052, 20109.812871567425] range(0, 5)\n"
     ]
    },
    {
     "data": {
      "image/png": "[encoded data removed]",
      "text/plain": [
       "<matplotlib.figure.Figure at 0x28eb61782e8>"
      ]
     },
     "metadata": {},
     "output_type": "display_data"
    },
    {
     "data": {
      "image/png": "[encoded data removed]",
      "text/plain": [
       "<matplotlib.figure.Figure at 0x28eb619b320>"
      ]
     },
     "metadata": {},
     "output_type": "display_data"
    }
   ],
   "source": [
    "cols = [\"views\",\"likes\",\"dislikes\",\"comment_count\"]\n",
    "dtypes = \"int64\"\n",
    "country = [\"CA\", \"USA\", \"GB\", \"FR\",\"DE\"]\n",
    "def dataframe_stats(columns, stats, countries,dtype ):\n",
    "    ca_graph = caVideo_df.describe(include = [dtype])[columns]\n",
    "    usa_graph = usaVideo_df.describe(include = [dtype])[columns]\n",
    "    gb_graph = gbVideo_df.describe(include = [dtype])[columns]\n",
    "    fr_graph = frVideo_df.describe(include = [dtype])[columns]\n",
    "    de_graph = deVideo_df.describe(include = [dtype])[columns]\n",
    "\n",
    "    temp = [ca_graph, usa_graph, gb_graph, fr_graph, de_graph]\n",
    "\n",
    "    means = []\n",
    "    std = []\n",
    "\n",
    "    for a in stats:\n",
    "        for i in range(0,5):\n",
    "            if a is \"mean\":\n",
    "                means.append(temp[i].loc[a,\"likes\"])\n",
    "            else:\n",
    "                std.append(temp[i].loc[a,\"likes\"])\n",
    "    li = list(ca_graph.columns)\n",
    "    ina = range(0,5)\n",
    "    for b in stats:\n",
    "        plt.xticks(ina, countries )\n",
    "        plt.title(\"%s of Youtube Likes for each Country\" % b)\n",
    "        if b is \"mean\":\n",
    "            print(means,ina)\n",
    "            plt.bar(ina, means)\n",
    "        else:\n",
    "            plt.bar(ina,std)\n",
    "        plt.show()\n",
    "dataframe_stats(cols, stats = [\"mean\",\"std\"],countries = country, dtype =dtypes)"
   ]
  },
  {
   "cell_type": "code",
   "execution_count": null,
   "metadata": {
    "collapsed": true
   },
   "outputs": [],
   "source": []
  },
  {
   "cell_type": "code",
   "execution_count": null,
   "metadata": {
    "collapsed": true
   },
   "outputs": [],
   "source": []
  },
  {
   "cell_type": "code",
   "execution_count": null,
   "metadata": {
    "collapsed": true
   },
   "outputs": [],
   "source": []
  },
  {
   "cell_type": "code",
   "execution_count": 47,
   "metadata": {},
   "outputs": [
    {
     "name": "stdout",
     "output_type": "stream",
     "text": [
      "Descriptive Statistics of features for Canada:\n",
      "\n",
      "          category_id         views         likes      dislikes  comment_count\n",
      "count  10592.000000  1.059200e+04  1.059200e+04  1.059200e+04   10592.000000\n",
      "mean      20.829494  1.188602e+06  4.332831e+04  2.865920e+03    5673.249717\n",
      "std        6.782456  4.137523e+06  1.418641e+05  3.466778e+04   25659.394553\n",
      "min        1.000000  1.141000e+03  0.000000e+00  0.000000e+00       0.000000\n",
      "25%       20.000000  1.437375e+05  2.154000e+03  1.030000e+02     409.000000\n",
      "50%       24.000000  3.538290e+05  9.326000e+03  2.990000e+02    1334.000000\n",
      "75%       24.000000  9.616615e+05  3.030625e+04  1.021250e+03    3940.000000\n",
      "max       43.000000  1.378431e+08  3.014479e+06  1.602383e+06  827755.000000\n",
      "Descriptive Statistics of features for USA:\n",
      "\n",
      "           category_id         views         likes      dislikes  comment_count\n",
      "count  10600.000000  1.060000e+04  1.060000e+04  1.060000e+04   1.060000e+04\n",
      "mean      19.966887  1.298616e+06  4.750210e+04  3.225578e+03   5.976430e+03\n",
      "std        7.577143  5.034084e+06  1.662689e+05  4.106633e+04   3.379892e+04\n",
      "min        1.000000  6.870000e+02  0.000000e+00  0.000000e+00   0.000000e+00\n",
      "25%       17.000000  9.084450e+04  2.062750e+03  8.700000e+01   2.767500e+02\n",
      "50%       24.000000  3.190315e+05  9.222500e+03  3.360000e+02   1.043000e+03\n",
      "75%       25.000000  1.028890e+06  3.025125e+04  1.171000e+03   3.422250e+03\n",
      "max       43.000000  1.493761e+08  3.093544e+06  1.643059e+06   1.238817e+06\n",
      "Descriptive Statistics of features for Great Britain:\n",
      "\n",
      "           category_id         views         likes      dislikes  comment_count\n",
      "count  10593.000000  1.059300e+04  1.059300e+04  1.059300e+04   1.059300e+04\n",
      "mean      18.563013  2.165778e+06  7.050723e+04  6.217185e+03   8.868895e+03\n",
      "std        7.294233  8.786665e+06  2.383790e+05  6.764962e+04   4.617321e+04\n",
      "min        1.000000  8.510000e+02  0.000000e+00  0.000000e+00   0.000000e+00\n",
      "25%       10.000000  1.056810e+05  2.399000e+03  8.500000e+01   3.140000e+02\n",
      "50%       22.000000  3.445870e+05  9.122000e+03  3.200000e+02   9.860000e+02\n",
      "75%       24.000000  1.256322e+06  4.104500e+04  1.396000e+03   4.025000e+03\n",
      "max       29.000000  1.698846e+08  3.312868e+06  1.753274e+06   1.238817e+06\n",
      "Descriptive Statistics of features for France:\n",
      "\n",
      "          category_id         views         likes      dislikes  comment_count\n",
      "count  10594.000000  1.059400e+04  1.059400e+04  1.059400e+04   10594.000000\n",
      "mean      20.368605  3.473149e+05  1.595050e+04  9.284588e+02    1623.262413\n",
      "std        7.000004  1.814750e+06  7.877221e+04  1.995568e+04   15410.485021\n",
      "min        1.000000  1.103000e+03  0.000000e+00  0.000000e+00       0.000000\n",
      "25%       17.000000  1.576775e+04  2.732500e+02  1.500000e+01      44.000000\n",
      "50%       23.000000  6.202200e+04  1.725000e+03  7.100000e+01     210.000000\n",
      "75%       24.000000  2.150392e+05  7.737750e+03  2.850000e+02     784.000000\n",
      "max       43.000000  1.009116e+08  2.656682e+06  1.353661e+06  827755.000000\n",
      "Descriptive Statistics of features for Germany:\n",
      "\n",
      "          category_id         views         likes      dislikes  comment_count\n",
      "count  10597.000000  1.059700e+04  1.059700e+04  1.059700e+04   10597.000000\n",
      "mean      20.730395  5.226706e+05  2.010981e+04  1.523882e+03    2662.583656\n",
      "std        7.026622  2.669876e+06  1.014393e+05  2.521821e+04   19795.991337\n",
      "min        1.000000  1.081000e+03  0.000000e+00  0.000000e+00       0.000000\n",
      "25%       20.000000  2.513400e+04  3.790000e+02  2.300000e+01      58.000000\n",
      "50%       24.000000  1.006870e+05  2.315000e+03  1.140000e+02     304.000000\n",
      "75%       24.000000  3.477280e+05  9.924000e+03  4.330000e+02    1149.000000\n",
      "max       43.000000  1.138762e+08  2.811217e+06  1.470386e+06  827755.000000\n"
     ]
    }
   ],
   "source": [
    "print(\"Descriptive Statistics of features for Canada:\\n\\n \",caVideo_df.describe(include = [\"int64\"]))\n",
    "print(\"Descriptive Statistics of features for USA:\\n\\n  \",usaVideo_df.describe(include = [\"int64\"]))\n",
    "print(\"Descriptive Statistics of features for Great Britain:\\n\\n  \",gbVideo_df.describe(include = [\"int64\"]))\n",
    "print(\"Descriptive Statistics of features for France:\\n\\n \",frVideo_df.describe(include = [\"int64\"]))\n",
    "print(\"Descriptive Statistics of features for Germany:\\n\\n \",deVideo_df.describe(include = [\"int64\"]))"
   ]
  },
  {
   "cell_type": "code",
   "execution_count": 48,
   "metadata": {},
   "outputs": [
    {
     "name": "stdout",
     "output_type": "stream",
     "text": [
      "Data Types of and features for Canada:\n",
      "\n",
      "   video_id                  object\n",
      "trending_date             object\n",
      "title                     object\n",
      "channel_title             object\n",
      "category_id                int64\n",
      "publish_time              object\n",
      "tags                      object\n",
      "views                      int64\n",
      "likes                      int64\n",
      "dislikes                   int64\n",
      "comment_count              int64\n",
      "thumbnail_link            object\n",
      "comments_disabled           bool\n",
      "ratings_disabled            bool\n",
      "video_error_or_removed      bool\n",
      "description               object\n",
      "dtype: object\n",
      "Descriptive Statistics of rows and features for USA:\n",
      "\n",
      "   video_id                  object\n",
      "trending_date             object\n",
      "title                     object\n",
      "channel_title             object\n",
      "category_id                int64\n",
      "publish_time              object\n",
      "tags                      object\n",
      "views                      int64\n",
      "likes                      int64\n",
      "dislikes                   int64\n",
      "comment_count              int64\n",
      "thumbnail_link            object\n",
      "comments_disabled           bool\n",
      "ratings_disabled            bool\n",
      "video_error_or_removed      bool\n",
      "description               object\n",
      "dtype: object\n",
      "Descriptive Statistics of rows and features for Great Britain:\n",
      "\n",
      "  video_id                  object\n",
      "trending_date             object\n",
      "title                     object\n",
      "channel_title             object\n",
      "category_id                int64\n",
      "publish_time              object\n",
      "tags                      object\n",
      "views                      int64\n",
      "likes                      int64\n",
      "dislikes                   int64\n",
      "comment_count              int64\n",
      "thumbnail_link            object\n",
      "comments_disabled           bool\n",
      "ratings_disabled            bool\n",
      "video_error_or_removed      bool\n",
      "description               object\n",
      "dtype: object\n",
      "Descriptive Statistics of rows and features for France:\n",
      "\n",
      "   video_id                  object\n",
      "trending_date             object\n",
      "title                     object\n",
      "channel_title             object\n",
      "category_id                int64\n",
      "publish_time              object\n",
      "tags                      object\n",
      "views                      int64\n",
      "likes                      int64\n",
      "dislikes                   int64\n",
      "comment_count              int64\n",
      "thumbnail_link            object\n",
      "comments_disabled           bool\n",
      "ratings_disabled            bool\n",
      "video_error_or_removed      bool\n",
      "description               object\n",
      "dtype: object\n",
      "Descriptive Statistics of rows and features for Germany:\n",
      "\n",
      "   video_id                  object\n",
      "trending_date             object\n",
      "title                     object\n",
      "channel_title             object\n",
      "category_id                int64\n",
      "publish_time              object\n",
      "tags                      object\n",
      "views                      int64\n",
      "likes                      int64\n",
      "dislikes                   int64\n",
      "comment_count              int64\n",
      "thumbnail_link            object\n",
      "comments_disabled           bool\n",
      "ratings_disabled            bool\n",
      "video_error_or_removed      bool\n",
      "description               object\n",
      "dtype: object\n"
     ]
    }
   ],
   "source": [
    "print(\"Data Types of and features for Canada:\\n\\n  \",caVideo_df.dtypes)\n",
    "print(\"Descriptive Statistics of rows and features for USA:\\n\\n  \",usaVideo_df.dtypes)\n",
    "print(\"Descriptive Statistics of rows and features for Great Britain:\\n\\n \",gbVideo_df.dtypes)\n",
    "print(\"Descriptive Statistics of rows and features for France:\\n\\n  \",frVideo_df.dtypes)\n",
    "print(\"Descriptive Statistics of rows and features for Germany:\\n\\n  \",deVideo_df.dtypes)"
   ]
  },
  {
   "cell_type": "markdown",
   "metadata": {},
   "source": [
    "In this portion, we notice that we have a couple of uneccasary piece of information to analyze this data. Moreover, can we identify any trivial information that may be affected due to poor derivation, extraction, or other potential modification? We find out in the **Cleaning** portion"
   ]
  },
  {
   "cell_type": "markdown",
   "metadata": {},
   "source": [
    "## Cleaning"
   ]
  },
  {
   "cell_type": "code",
   "execution_count": 24,
   "metadata": {},
   "outputs": [],
   "source": [
    "video_list = [caVideo_df, gbVideo_df, frVideo_df, deVideo_df, usaVideo_df]\n",
    "\n",
    "caVideo_columns = list(caVideo_df.columns)\n",
    "gbVideo_columns = list(gbVideo_df.columns)\n",
    "frVideo_columns = list(frVideo_df.columns)\n",
    "deVideo_columns = list(deVideo_df.columns)\n",
    "usaVideo_columns = list(usaVideo_df.columns)\n",
    "\n",
    "video_list_str = [\"caVideo_nullCount\", \"gbVideo_nullCount\", \n",
    "              \"frVideo_nullCount\", \"deVideo_nullCount\", \"usaVideo_nullCount\"]"
   ]
  },
  {
   "cell_type": "code",
   "execution_count": null,
   "metadata": {
    "collapsed": true
   },
   "outputs": [],
   "source": [
    "allVideos_nullCount = {}\n",
    "for index, videos in enumerate(video_list):\n",
    "    temp_dic = {}\n",
    "    for col in videos:\n",
    "        #temp_dic = {}\n",
    "        null_val = videos[col].isnull().values.sum()\n",
    "        temp_dic[col] = null_val\n",
    "    allVideos_nullCount[video_list_str[index]] = temp_dic"
   ]
  },
  {
   "cell_type": "code",
   "execution_count": 25,
   "metadata": {},
   "outputs": [
    {
     "name": "stdout",
     "output_type": "stream",
     "text": [
      "{'caVideo_nullCount': {'category_id': 0,\n",
      "                       'channel_title': 0,\n",
      "                       'comment_count': 0,\n",
      "                       'comments_disabled': 0,\n",
      "                       'description': 309,\n",
      "                       'dislikes': 0,\n",
      "                       'likes': 0,\n",
      "                       'publish_time': 0,\n",
      "                       'ratings_disabled': 0,\n",
      "                       'tags': 0,\n",
      "                       'thumbnail_link': 0,\n",
      "                       'title': 0,\n",
      "                       'trending_date': 0,\n",
      "                       'video_error_or_removed': 0,\n",
      "                       'video_id': 0,\n",
      "                       'views': 0},\n",
      " 'deVideo_nullCount': {'category_id': 0,\n",
      "                       'channel_title': 0,\n",
      "                       'comment_count': 0,\n",
      "                       'comments_disabled': 0,\n",
      "                       'description': 446,\n",
      "                       'dislikes': 0,\n",
      "                       'likes': 0,\n",
      "                       'publish_time': 0,\n",
      "                       'ratings_disabled': 0,\n",
      "                       'tags': 0,\n",
      "                       'thumbnail_link': 0,\n",
      "                       'title': 0,\n",
      "                       'trending_date': 0,\n",
      "                       'video_error_or_removed': 0,\n",
      "                       'video_id': 0,\n",
      "                       'views': 0},\n",
      " 'frVideo_nullCount': {'category_id': 0,\n",
      "                       'channel_title': 0,\n",
      "                       'comment_count': 0,\n",
      "                       'comments_disabled': 0,\n",
      "                       'description': 754,\n",
      "                       'dislikes': 0,\n",
      "                       'likes': 0,\n",
      "                       'publish_time': 0,\n",
      "                       'ratings_disabled': 0,\n",
      "                       'tags': 0,\n",
      "                       'thumbnail_link': 0,\n",
      "                       'title': 0,\n",
      "                       'trending_date': 0,\n",
      "                       'video_error_or_removed': 0,\n",
      "                       'video_id': 0,\n",
      "                       'views': 0},\n",
      " 'gbVideo_nullCount': {'category_id': 0,\n",
      "                       'channel_title': 0,\n",
      "                       'comment_count': 0,\n",
      "                       'comments_disabled': 0,\n",
      "                       'description': 134,\n",
      "                       'dislikes': 0,\n",
      "                       'likes': 0,\n",
      "                       'publish_time': 0,\n",
      "                       'ratings_disabled': 0,\n",
      "                       'tags': 0,\n",
      "                       'thumbnail_link': 0,\n",
      "                       'title': 0,\n",
      "                       'trending_date': 0,\n",
      "                       'video_error_or_removed': 0,\n",
      "                       'video_id': 0,\n",
      "                       'views': 0},\n",
      " 'usaVideo_nullCount': {'category_id': 0,\n",
      "                        'channel_title': 0,\n",
      "                        'comment_count': 0,\n",
      "                        'comments_disabled': 0,\n",
      "                        'description': 161,\n",
      "                        'dislikes': 0,\n",
      "                        'likes': 0,\n",
      "                        'publish_time': 0,\n",
      "                        'ratings_disabled': 0,\n",
      "                        'tags': 0,\n",
      "                        'thumbnail_link': 0,\n",
      "                        'title': 0,\n",
      "                        'trending_date': 0,\n",
      "                        'video_error_or_removed': 0,\n",
      "                        'video_id': 0,\n",
      "                        'views': 0}}\n"
     ]
    }
   ],
   "source": [
    "pprint.pprint(allVideos_nullCount )"
   ]
  },
  {
   "cell_type": "markdown",
   "metadata": {},
   "source": [
    "## Export"
   ]
  },
  {
   "cell_type": "markdown",
   "metadata": {},
   "source": [
    "## Resources"
   ]
  },
  {
   "cell_type": "code",
   "execution_count": null,
   "metadata": {
    "collapsed": true
   },
   "outputs": [],
   "source": []
  }
 ],
 "metadata": {
  "anaconda-cloud": {},
  "kernelspec": {
   "display_name": "Python [conda root]",
   "language": "python",
   "name": "conda-root-py"
  },
  "language_info": {
   "codemirror_mode": {
    "name": "ipython",
    "version": 3
   },
   "file_extension": ".py",
   "mimetype": "text/x-python",
   "name": "python",
   "nbconvert_exporter": "python",
   "pygments_lexer": "ipython3",
   "version": "3.5.3"
  }
 },
 "nbformat": 4,
 "nbformat_minor": 2
}
