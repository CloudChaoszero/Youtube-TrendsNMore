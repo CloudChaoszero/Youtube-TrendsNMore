{
 "cells": [
  {
   "cell_type": "markdown",
   "metadata": {},
   "source": [
    "# Youtube Data Exploration & Cleaning"
   ]
  },
  {
   "cell_type": "markdown",
   "metadata": {},
   "source": [
    "![\"Bronze Button\"](https://pbs.twimg.com/media/C1WZpigXUAQMQLj.jpg)"
   ]
  },
  {
   "cell_type": "markdown",
   "metadata": {},
   "source": [
    "## Imports"
   ]
  },
  {
   "cell_type": "code",
   "execution_count": 4,
   "metadata": {
    "collapsed": true
   },
   "outputs": [],
   "source": [
    "import pandas as pd"
   ]
  },
  {
   "cell_type": "code",
   "execution_count": 5,
   "metadata": {
    "collapsed": true
   },
   "outputs": [],
   "source": [
    "caVideo_df = pd.read_csv(\"../Data/CAvideos.csv\")"
   ]
  },
  {
   "cell_type": "markdown",
   "metadata": {},
   "source": [
    "## Inspection"
   ]
  },
  {
   "cell_type": "code",
   "execution_count": 51,
   "metadata": {},
   "outputs": [],
   "source": [
    "caVideo_columns = list(caVideo_df.columns)\n",
    "\n",
    "caVideo_nullCount = {}\n",
    "for col in caVideo_columns:\n",
    "    null_val = caVideo_df[col].isnull().values.sum()\n",
    "    caVideo_nullCount[col] = null_val"
   ]
  },
  {
   "cell_type": "code",
   "execution_count": 52,
   "metadata": {},
   "outputs": [
    {
     "name": "stdout",
     "output_type": "stream",
     "text": [
      "{'views': 0, 'comments_disabled': 0, 'video_error_or_removed': 0, 'comment_count': 0, 'channel_title': 0, 'tags': 0, 'dislikes': 0, 'description': 309, 'ratings_disabled': 0, 'trending_date': 0, 'likes': 0, 'video_id': 0, 'category_id': 0, 'publish_time': 0, 'title': 0, 'thumbnail_link': 0}\n"
     ]
    }
   ],
   "source": [
    "print(caVideo_nullCount)"
   ]
  },
  {
   "cell_type": "code",
   "execution_count": 35,
   "metadata": {},
   "outputs": [],
   "source": [
    "usaVideo_df = pd.read_csv(\"../Data/USvideos.csv\")"
   ]
  },
  {
   "cell_type": "code",
   "execution_count": 54,
   "metadata": {},
   "outputs": [],
   "source": [
    "usaVideo_columns = list(usaVideo_df.columns)"
   ]
  },
  {
   "cell_type": "code",
   "execution_count": 57,
   "metadata": {},
   "outputs": [],
   "source": [
    "usaVideo_nullCount = {}\n",
    "for col in usaVideo_columns:\n",
    "    us_null = usaVideo_df[col].isnull().values.sum()\n",
    "    usaVideo_nullCount[col] = us_null "
   ]
  },
  {
   "cell_type": "code",
   "execution_count": 58,
   "metadata": {},
   "outputs": [
    {
     "data": {
      "text/plain": [
       "{'category_id': 0,\n",
       " 'channel_title': 0,\n",
       " 'comment_count': 0,\n",
       " 'comments_disabled': 0,\n",
       " 'description': 161,\n",
       " 'dislikes': 0,\n",
       " 'likes': 0,\n",
       " 'publish_time': 0,\n",
       " 'ratings_disabled': 0,\n",
       " 'tags': 0,\n",
       " 'thumbnail_link': 0,\n",
       " 'title': 0,\n",
       " 'trending_date': 0,\n",
       " 'video_error_or_removed': 0,\n",
       " 'video_id': 0,\n",
       " 'views': 0}"
      ]
     },
     "execution_count": 58,
     "metadata": {},
     "output_type": "execute_result"
    }
   ],
   "source": [
    "usaVideo_nullCount"
   ]
  },
  {
   "cell_type": "markdown",
   "metadata": {},
   "source": [
    "## Cleaning"
   ]
  },
  {
   "cell_type": "markdown",
   "metadata": {},
   "source": [
    "## Export"
   ]
  },
  {
   "cell_type": "markdown",
   "metadata": {},
   "source": [
    "## Resources"
   ]
  },
  {
   "cell_type": "code",
   "execution_count": null,
   "metadata": {
    "collapsed": true
   },
   "outputs": [],
   "source": []
  }
 ],
 "metadata": {
  "kernelspec": {
   "display_name": "Python [conda root]",
   "language": "python",
   "name": "conda-root-py"
  },
  "language_info": {
   "codemirror_mode": {
    "name": "ipython",
    "version": 3
   },
   "file_extension": ".py",
   "mimetype": "text/x-python",
   "name": "python",
   "nbconvert_exporter": "python",
   "pygments_lexer": "ipython3",
   "version": "3.5.3"
  }
 },
 "nbformat": 4,
 "nbformat_minor": 2
}
